{
 "cells": [
  {
   "cell_type": "code",
   "execution_count": 1,
   "id": "figured-strengthening",
   "metadata": {},
   "outputs": [],
   "source": [
    "import pandas as pd\n",
    "import numpy as np"
   ]
  },
  {
   "cell_type": "code",
   "execution_count": 2,
   "id": "indirect-shower",
   "metadata": {},
   "outputs": [],
   "source": [
    "df = pd.read_csv(\"car.data_target.csv\")"
   ]
  },
  {
   "cell_type": "code",
   "execution_count": 3,
   "id": "destroyed-operations",
   "metadata": {},
   "outputs": [
    {
     "data": {
      "text/html": [
       "<div>\n",
       "<style scoped>\n",
       "    .dataframe tbody tr th:only-of-type {\n",
       "        vertical-align: middle;\n",
       "    }\n",
       "\n",
       "    .dataframe tbody tr th {\n",
       "        vertical-align: top;\n",
       "    }\n",
       "\n",
       "    .dataframe thead th {\n",
       "        text-align: right;\n",
       "    }\n",
       "</style>\n",
       "<table border=\"1\" class=\"dataframe\">\n",
       "  <thead>\n",
       "    <tr style=\"text-align: right;\">\n",
       "      <th></th>\n",
       "      <th>buying</th>\n",
       "      <th>maint</th>\n",
       "      <th>doors</th>\n",
       "      <th>persons</th>\n",
       "      <th>lug_boot</th>\n",
       "      <th>safety</th>\n",
       "      <th>target</th>\n",
       "    </tr>\n",
       "  </thead>\n",
       "  <tbody>\n",
       "    <tr>\n",
       "      <th>0</th>\n",
       "      <td>veryhigh</td>\n",
       "      <td>veryhigh</td>\n",
       "      <td>2</td>\n",
       "      <td>2</td>\n",
       "      <td>small</td>\n",
       "      <td>low</td>\n",
       "      <td>unacc</td>\n",
       "    </tr>\n",
       "    <tr>\n",
       "      <th>1</th>\n",
       "      <td>veryhigh</td>\n",
       "      <td>veryhigh</td>\n",
       "      <td>2</td>\n",
       "      <td>2</td>\n",
       "      <td>small</td>\n",
       "      <td>med</td>\n",
       "      <td>unacc</td>\n",
       "    </tr>\n",
       "    <tr>\n",
       "      <th>2</th>\n",
       "      <td>veryhigh</td>\n",
       "      <td>veryhigh</td>\n",
       "      <td>2</td>\n",
       "      <td>2</td>\n",
       "      <td>small</td>\n",
       "      <td>high</td>\n",
       "      <td>unacc</td>\n",
       "    </tr>\n",
       "    <tr>\n",
       "      <th>3</th>\n",
       "      <td>veryhigh</td>\n",
       "      <td>veryhigh</td>\n",
       "      <td>2</td>\n",
       "      <td>2</td>\n",
       "      <td>med</td>\n",
       "      <td>low</td>\n",
       "      <td>unacc</td>\n",
       "    </tr>\n",
       "    <tr>\n",
       "      <th>4</th>\n",
       "      <td>veryhigh</td>\n",
       "      <td>veryhigh</td>\n",
       "      <td>2</td>\n",
       "      <td>2</td>\n",
       "      <td>med</td>\n",
       "      <td>med</td>\n",
       "      <td>unacc</td>\n",
       "    </tr>\n",
       "    <tr>\n",
       "      <th>...</th>\n",
       "      <td>...</td>\n",
       "      <td>...</td>\n",
       "      <td>...</td>\n",
       "      <td>...</td>\n",
       "      <td>...</td>\n",
       "      <td>...</td>\n",
       "      <td>...</td>\n",
       "    </tr>\n",
       "    <tr>\n",
       "      <th>1723</th>\n",
       "      <td>low</td>\n",
       "      <td>low</td>\n",
       "      <td>5more</td>\n",
       "      <td>more</td>\n",
       "      <td>med</td>\n",
       "      <td>med</td>\n",
       "      <td>good</td>\n",
       "    </tr>\n",
       "    <tr>\n",
       "      <th>1724</th>\n",
       "      <td>low</td>\n",
       "      <td>low</td>\n",
       "      <td>5more</td>\n",
       "      <td>more</td>\n",
       "      <td>med</td>\n",
       "      <td>high</td>\n",
       "      <td>verygood</td>\n",
       "    </tr>\n",
       "    <tr>\n",
       "      <th>1725</th>\n",
       "      <td>low</td>\n",
       "      <td>low</td>\n",
       "      <td>5more</td>\n",
       "      <td>more</td>\n",
       "      <td>big</td>\n",
       "      <td>low</td>\n",
       "      <td>unacc</td>\n",
       "    </tr>\n",
       "    <tr>\n",
       "      <th>1726</th>\n",
       "      <td>low</td>\n",
       "      <td>low</td>\n",
       "      <td>5more</td>\n",
       "      <td>more</td>\n",
       "      <td>big</td>\n",
       "      <td>med</td>\n",
       "      <td>good</td>\n",
       "    </tr>\n",
       "    <tr>\n",
       "      <th>1727</th>\n",
       "      <td>low</td>\n",
       "      <td>low</td>\n",
       "      <td>5more</td>\n",
       "      <td>more</td>\n",
       "      <td>big</td>\n",
       "      <td>high</td>\n",
       "      <td>verygood</td>\n",
       "    </tr>\n",
       "  </tbody>\n",
       "</table>\n",
       "<p>1728 rows × 7 columns</p>\n",
       "</div>"
      ],
      "text/plain": [
       "        buying     maint  doors persons lug_boot safety    target\n",
       "0     veryhigh  veryhigh      2       2    small    low     unacc\n",
       "1     veryhigh  veryhigh      2       2    small    med     unacc\n",
       "2     veryhigh  veryhigh      2       2    small   high     unacc\n",
       "3     veryhigh  veryhigh      2       2      med    low     unacc\n",
       "4     veryhigh  veryhigh      2       2      med    med     unacc\n",
       "...        ...       ...    ...     ...      ...    ...       ...\n",
       "1723       low       low  5more    more      med    med      good\n",
       "1724       low       low  5more    more      med   high  verygood\n",
       "1725       low       low  5more    more      big    low     unacc\n",
       "1726       low       low  5more    more      big    med      good\n",
       "1727       low       low  5more    more      big   high  verygood\n",
       "\n",
       "[1728 rows x 7 columns]"
      ]
     },
     "execution_count": 3,
     "metadata": {},
     "output_type": "execute_result"
    }
   ],
   "source": [
    "df"
   ]
  },
  {
   "cell_type": "code",
   "execution_count": 4,
   "id": "reliable-rebecca",
   "metadata": {},
   "outputs": [
    {
     "data": {
      "text/plain": [
       "Index(['buying', 'maint', 'doors', 'persons', 'lug_boot', 'safety', 'target'], dtype='object')"
      ]
     },
     "execution_count": 4,
     "metadata": {},
     "output_type": "execute_result"
    }
   ],
   "source": [
    "df.columns"
   ]
  },
  {
   "cell_type": "markdown",
   "id": "extraordinary-circus",
   "metadata": {},
   "source": [
    "<ul>\n",
    "    <li> buying : traducao</li>\n",
    "    <li> maint </li>\n",
    "    <li> doors</li>\n",
    "    <li> persons</li>\n",
    "    <li> lug_boot</li>\n",
    "    <li> safety</li>\n",
    "    <li> target</li>\n",
    "    </ul>"
   ]
  },
  {
   "cell_type": "code",
   "execution_count": 6,
   "id": "eleven-status",
   "metadata": {},
   "outputs": [
    {
     "data": {
      "text/plain": [
       "buying      0\n",
       "maint       0\n",
       "doors       0\n",
       "persons     0\n",
       "lug_boot    0\n",
       "safety      0\n",
       "target      0\n",
       "dtype: int64"
      ]
     },
     "execution_count": 6,
     "metadata": {},
     "output_type": "execute_result"
    }
   ],
   "source": [
    "df.isnull().sum()"
   ]
  },
  {
   "cell_type": "code",
   "execution_count": 7,
   "id": "congressional-scheduling",
   "metadata": {},
   "outputs": [],
   "source": [
    "df_target = df.drop(['buying','maint','doors','persons','lug_boot','safety'], axis = 1)"
   ]
  },
  {
   "cell_type": "code",
   "execution_count": 8,
   "id": "fiscal-basketball",
   "metadata": {},
   "outputs": [
    {
     "data": {
      "text/html": [
       "<div>\n",
       "<style scoped>\n",
       "    .dataframe tbody tr th:only-of-type {\n",
       "        vertical-align: middle;\n",
       "    }\n",
       "\n",
       "    .dataframe tbody tr th {\n",
       "        vertical-align: top;\n",
       "    }\n",
       "\n",
       "    .dataframe thead th {\n",
       "        text-align: right;\n",
       "    }\n",
       "</style>\n",
       "<table border=\"1\" class=\"dataframe\">\n",
       "  <thead>\n",
       "    <tr style=\"text-align: right;\">\n",
       "      <th></th>\n",
       "      <th>target</th>\n",
       "    </tr>\n",
       "  </thead>\n",
       "  <tbody>\n",
       "    <tr>\n",
       "      <th>1196</th>\n",
       "      <td>unacc</td>\n",
       "    </tr>\n",
       "    <tr>\n",
       "      <th>940</th>\n",
       "      <td>acc</td>\n",
       "    </tr>\n",
       "    <tr>\n",
       "      <th>212</th>\n",
       "      <td>unacc</td>\n",
       "    </tr>\n",
       "    <tr>\n",
       "      <th>1254</th>\n",
       "      <td>unacc</td>\n",
       "    </tr>\n",
       "    <tr>\n",
       "      <th>986</th>\n",
       "      <td>acc</td>\n",
       "    </tr>\n",
       "  </tbody>\n",
       "</table>\n",
       "</div>"
      ],
      "text/plain": [
       "     target\n",
       "1196  unacc\n",
       "940     acc\n",
       "212   unacc\n",
       "1254  unacc\n",
       "986     acc"
      ]
     },
     "execution_count": 8,
     "metadata": {},
     "output_type": "execute_result"
    }
   ],
   "source": [
    "df_target.sample(5)"
   ]
  },
  {
   "cell_type": "code",
   "execution_count": 9,
   "id": "convenient-gothic",
   "metadata": {},
   "outputs": [],
   "source": [
    "df = df.drop(['target'], axis = 1)"
   ]
  },
  {
   "cell_type": "code",
   "execution_count": 10,
   "id": "timely-adaptation",
   "metadata": {},
   "outputs": [
    {
     "data": {
      "text/html": [
       "<div>\n",
       "<style scoped>\n",
       "    .dataframe tbody tr th:only-of-type {\n",
       "        vertical-align: middle;\n",
       "    }\n",
       "\n",
       "    .dataframe tbody tr th {\n",
       "        vertical-align: top;\n",
       "    }\n",
       "\n",
       "    .dataframe thead th {\n",
       "        text-align: right;\n",
       "    }\n",
       "</style>\n",
       "<table border=\"1\" class=\"dataframe\">\n",
       "  <thead>\n",
       "    <tr style=\"text-align: right;\">\n",
       "      <th></th>\n",
       "      <th>buying</th>\n",
       "      <th>maint</th>\n",
       "      <th>doors</th>\n",
       "      <th>persons</th>\n",
       "      <th>lug_boot</th>\n",
       "      <th>safety</th>\n",
       "    </tr>\n",
       "  </thead>\n",
       "  <tbody>\n",
       "    <tr>\n",
       "      <th>1481</th>\n",
       "      <td>low</td>\n",
       "      <td>high</td>\n",
       "      <td>4</td>\n",
       "      <td>more</td>\n",
       "      <td>med</td>\n",
       "      <td>high</td>\n",
       "    </tr>\n",
       "    <tr>\n",
       "      <th>1003</th>\n",
       "      <td>med</td>\n",
       "      <td>high</td>\n",
       "      <td>3</td>\n",
       "      <td>2</td>\n",
       "      <td>med</td>\n",
       "      <td>med</td>\n",
       "    </tr>\n",
       "    <tr>\n",
       "      <th>1319</th>\n",
       "      <td>low</td>\n",
       "      <td>veryhigh</td>\n",
       "      <td>2</td>\n",
       "      <td>more</td>\n",
       "      <td>med</td>\n",
       "      <td>high</td>\n",
       "    </tr>\n",
       "    <tr>\n",
       "      <th>70</th>\n",
       "      <td>veryhigh</td>\n",
       "      <td>veryhigh</td>\n",
       "      <td>4</td>\n",
       "      <td>4</td>\n",
       "      <td>big</td>\n",
       "      <td>med</td>\n",
       "    </tr>\n",
       "  </tbody>\n",
       "</table>\n",
       "</div>"
      ],
      "text/plain": [
       "        buying     maint doors persons lug_boot safety\n",
       "1481       low      high     4    more      med   high\n",
       "1003       med      high     3       2      med    med\n",
       "1319       low  veryhigh     2    more      med   high\n",
       "70    veryhigh  veryhigh     4       4      big    med"
      ]
     },
     "execution_count": 10,
     "metadata": {},
     "output_type": "execute_result"
    }
   ],
   "source": [
    "df.sample(4)"
   ]
  },
  {
   "cell_type": "code",
   "execution_count": 11,
   "id": "absolute-rebecca",
   "metadata": {},
   "outputs": [
    {
     "data": {
      "text/plain": [
       "(array(['high', 'low', 'med', 'veryhigh'], dtype=object),\n",
       " array([432, 432, 432, 432]))"
      ]
     },
     "execution_count": 11,
     "metadata": {},
     "output_type": "execute_result"
    }
   ],
   "source": [
    "np.unique(df['buying'], return_counts = True)"
   ]
  },
  {
   "cell_type": "code",
   "execution_count": 12,
   "id": "faced-independence",
   "metadata": {},
   "outputs": [
    {
     "data": {
      "text/plain": [
       "array(['high', 'low', 'med', 'veryhigh'], dtype=object)"
      ]
     },
     "execution_count": 12,
     "metadata": {},
     "output_type": "execute_result"
    }
   ],
   "source": [
    "np.unique(df['maint'])"
   ]
  },
  {
   "cell_type": "code",
   "execution_count": 13,
   "id": "actual-skill",
   "metadata": {},
   "outputs": [
    {
     "data": {
      "text/plain": [
       "(array(['2', '3', '4', '5more'], dtype=object), array([432, 432, 432, 432]))"
      ]
     },
     "execution_count": 13,
     "metadata": {},
     "output_type": "execute_result"
    }
   ],
   "source": [
    "np.unique(df['doors'], return_counts = True)"
   ]
  },
  {
   "cell_type": "code",
   "execution_count": 14,
   "id": "separate-oklahoma",
   "metadata": {},
   "outputs": [
    {
     "data": {
      "text/plain": [
       "(array(['2', '4', 'more'], dtype=object), array([576, 576, 576]))"
      ]
     },
     "execution_count": 14,
     "metadata": {},
     "output_type": "execute_result"
    }
   ],
   "source": [
    "np.unique(df['persons'], return_counts = True)"
   ]
  },
  {
   "cell_type": "code",
   "execution_count": 15,
   "id": "sacred-rings",
   "metadata": {},
   "outputs": [
    {
     "data": {
      "text/plain": [
       "(array(['big', 'med', 'small'], dtype=object), array([576, 576, 576]))"
      ]
     },
     "execution_count": 15,
     "metadata": {},
     "output_type": "execute_result"
    }
   ],
   "source": [
    "np.unique(df['lug_boot'], return_counts = True)"
   ]
  },
  {
   "cell_type": "code",
   "execution_count": 16,
   "id": "outstanding-fashion",
   "metadata": {},
   "outputs": [
    {
     "data": {
      "text/plain": [
       "(array(['high', 'low', 'med'], dtype=object), array([576, 576, 576]))"
      ]
     },
     "execution_count": 16,
     "metadata": {},
     "output_type": "execute_result"
    }
   ],
   "source": [
    "np.unique(df['safety'], return_counts = True)"
   ]
  },
  {
   "cell_type": "markdown",
   "id": "civilian-version",
   "metadata": {},
   "source": [
    "# Iniciando as funções"
   ]
  },
  {
   "cell_type": "code",
   "execution_count": 18,
   "id": "antique-assets",
   "metadata": {},
   "outputs": [],
   "source": [
    "def tipo_buying(line):\n",
    "    if line == 'low' :\n",
    "        return '1'\n",
    "    elif line == 'med':\n",
    "        return '2'\n",
    "    elif line == 'high' :\n",
    "        return '3'\n",
    "    else :\n",
    "        return '4'"
   ]
  },
  {
   "cell_type": "code",
   "execution_count": 19,
   "id": "flying-herald",
   "metadata": {},
   "outputs": [],
   "source": [
    "def tipo_maint(line):\n",
    "    if line == 'high' :\n",
    "        return '3'\n",
    "    elif line == 'low' :\n",
    "        return '1'\n",
    "    elif line == 'med':\n",
    "        return '2'\n",
    "    else :\n",
    "        return '4'"
   ]
  },
  {
   "cell_type": "code",
   "execution_count": null,
   "id": "color-scenario",
   "metadata": {},
   "outputs": [],
   "source": [
    "def tipo_doors(line):\n",
    "    if line == '2' :\n",
    "        return '1'\n",
    "    elif line == '3' :\n",
    "        return '2'\n",
    "    elif line == '4':\n",
    "        return '3'\n",
    "    else :\n",
    "        return '4'"
   ]
  },
  {
   "cell_type": "code",
   "execution_count": null,
   "id": "failing-oxford",
   "metadata": {},
   "outputs": [],
   "source": [
    "def tipo_lug_boot(line):\n",
    "    if line == 'big' :\n",
    "        return '3'\n",
    "    elif line == 'med' :\n",
    "        return '2'\n",
    "    elif line == 'small':\n",
    "        return '1'\n",
    "    else :\n",
    "        return '0'"
   ]
  },
  {
   "cell_type": "code",
   "execution_count": null,
   "id": "planned-defendant",
   "metadata": {},
   "outputs": [],
   "source": [
    "def tipo_persons(line):\n",
    "    if line == '2' :\n",
    "        return '1'\n",
    "    elif line == '4' :\n",
    "        return '2'\n",
    "    else :\n",
    "        return '3'"
   ]
  },
  {
   "cell_type": "code",
   "execution_count": null,
   "id": "lined-memphis",
   "metadata": {},
   "outputs": [],
   "source": [
    "def tipo_doors(line):\n",
    "    if line == '2' :\n",
    "        return '1'\n",
    "    elif line == '3' :\n",
    "        return '2'\n",
    "    elif line == '4':\n",
    "        return '3'\n",
    "    else :\n",
    "        return '4'"
   ]
  },
  {
   "cell_type": "code",
   "execution_count": null,
   "id": "endless-disposition",
   "metadata": {},
   "outputs": [],
   "source": [
    "def tipo_safety(line):\n",
    "    if line == 'high' :\n",
    "        return '3'\n",
    "    elif line == 'low' :\n",
    "        return '1'\n",
    "    elif line == 'med':\n",
    "        return '2'\n",
    "    else :\n",
    "        return '0'"
   ]
  },
  {
   "cell_type": "code",
   "execution_count": null,
   "id": "historical-certification",
   "metadata": {},
   "outputs": [],
   "source": [
    "df['buying']   = df['buying'].apply(lambda x: tipo_buying(x))\n",
    "df['maint']    = df['maint'].apply(lambda x: tipo_maint(x))\n",
    "df['doors']    = df['doors'].apply(lambda x: tipo_doors(x))\n",
    "df['persons']  = df['persons'].apply(lambda x: tipo_persons(x))\n",
    "df['safety']   = df['safety'].apply(lambda x: tipo_safety(x))\n",
    "df['lug_boot'] = df['lug_boot'].apply(lambda x: tipo_safety(x))"
   ]
  },
  {
   "cell_type": "code",
   "execution_count": null,
   "id": "hybrid-kuwait",
   "metadata": {},
   "outputs": [],
   "source": [
    "df_buying    = pd.get_dummies(df['buying'], dummy_na=True)\n",
    "df_maint     = pd.get_dummies(df['maint'], dummy_na=True)\n",
    "df_doors     = pd.get_dummies(df['doors'], dummy_na=True)\n",
    "df_persons   = pd.get_dummies(df['persons'], dummy_na=True)\n",
    "df_safety    = pd.get_dummies(df['safety'], dummy_na=True)\n",
    "df_lug_boot  = pd.get_dummies(df['lug_boot'], dummy_na=True)"
   ]
  },
  {
   "cell_type": "code",
   "execution_count": null,
   "id": "sharing-ceiling",
   "metadata": {},
   "outputs": [],
   "source": [
    "df_buying"
   ]
  },
  {
   "cell_type": "code",
   "execution_count": null,
   "id": "balanced-voltage",
   "metadata": {},
   "outputs": [],
   "source": [
    "df_buying.columns, df_maint.columns, df_doors.columns, df_persons.columns, df_safety.columns, df_lug_boot.columns"
   ]
  },
  {
   "cell_type": "code",
   "execution_count": null,
   "id": "initial-brooks",
   "metadata": {},
   "outputs": [],
   "source": [
    "#df_buying\n",
    "#df_maint\n",
    "#df_doors\n",
    "#df_persons\n",
    "#df_safety\n",
    "#df_lug_boot"
   ]
  },
  {
   "cell_type": "code",
   "execution_count": null,
   "id": "subsequent-jungle",
   "metadata": {},
   "outputs": [],
   "source": [
    "df_buying.columns   =[ '1', '2', '3', '4', 'No_def_buying' ]"
   ]
  },
  {
   "cell_type": "code",
   "execution_count": null,
   "id": "hired-guest",
   "metadata": {},
   "outputs": [],
   "source": [
    "df_maint.columns    = ['1', '2', '3', '4', 'No_def_maint']"
   ]
  },
  {
   "cell_type": "code",
   "execution_count": null,
   "id": "verified-emphasis",
   "metadata": {},
   "outputs": [],
   "source": [
    "df_doors.columns    = ['1', '2', '3', '4', 'No_def_doors']"
   ]
  },
  {
   "cell_type": "code",
   "execution_count": null,
   "id": "blind-allah",
   "metadata": {},
   "outputs": [],
   "source": [
    "df_persons.columns  = ['1', '2', '3', 'No_def_persons']"
   ]
  },
  {
   "cell_type": "code",
   "execution_count": null,
   "id": "double-development",
   "metadata": {},
   "outputs": [],
   "source": [
    "df_lug_boot.columns = ['0', '2', 'No_def_lug_boot'] "
   ]
  },
  {
   "cell_type": "code",
   "execution_count": null,
   "id": "finished-melbourne",
   "metadata": {},
   "outputs": [],
   "source": [
    "df_safety.columns   = ['1', '2', '3', 'No_def_safety']"
   ]
  },
  {
   "cell_type": "code",
   "execution_count": null,
   "id": "sustainable-margin",
   "metadata": {},
   "outputs": [],
   "source": [
    "#'No_def_maint', 'No_def_doors','No_def_persons', 'No_def_safety' , 'No_def_lug_boot'"
   ]
  },
  {
   "cell_type": "code",
   "execution_count": null,
   "id": "enhanced-moderator",
   "metadata": {},
   "outputs": [],
   "source": [
    "df_result = pd.concat([df_buying, df_maint, df_doors, df_persons, df_safety, df_lug_boot ], axis=1, join=\"inner\")"
   ]
  },
  {
   "cell_type": "code",
   "execution_count": null,
   "id": "sorted-brook",
   "metadata": {},
   "outputs": [],
   "source": [
    "df_result"
   ]
  },
  {
   "cell_type": "code",
   "execution_count": null,
   "id": "future-contemporary",
   "metadata": {},
   "outputs": [],
   "source": [
    "df_result = df_result.drop(['No_def_buying', 'No_def_maint','No_def_persons', 'No_def_safety' , 'No_def_lug_boot', 'No_def_doors'], axis = 1)"
   ]
  },
  {
   "cell_type": "code",
   "execution_count": null,
   "id": "happy-hostel",
   "metadata": {},
   "outputs": [],
   "source": [
    "df_result.head(4)"
   ]
  },
  {
   "cell_type": "code",
   "execution_count": null,
   "id": "veterinary-bulletin",
   "metadata": {},
   "outputs": [],
   "source": [
    "df_result.columns"
   ]
  },
  {
   "cell_type": "code",
   "execution_count": null,
   "id": "reasonable-bosnia",
   "metadata": {},
   "outputs": [],
   "source": [
    "x = df_result.values"
   ]
  },
  {
   "cell_type": "code",
   "execution_count": null,
   "id": "excessive-spread",
   "metadata": {},
   "outputs": [],
   "source": [
    "np.unique(y, return_counts = True)"
   ]
  },
  {
   "cell_type": "code",
   "execution_count": null,
   "id": "threaded-scientist",
   "metadata": {},
   "outputs": [],
   "source": [
    "def target(line):\n",
    "    if line == 'acc' :\n",
    "        return '2'\n",
    "    elif line == 'good' :\n",
    "        return '3'\n",
    "    elif line == 'unacc' :\n",
    "        return '1'\n",
    "    else :\n",
    "        return '4'"
   ]
  },
  {
   "cell_type": "code",
   "execution_count": null,
   "id": "reverse-encounter",
   "metadata": {},
   "outputs": [],
   "source": [
    "df_target['target_'] = df_target['target'].apply(lambda x: target(x))"
   ]
  },
  {
   "cell_type": "code",
   "execution_count": null,
   "id": "fifty-scene",
   "metadata": {},
   "outputs": [],
   "source": [
    "df_target = df_target.drop(['target'], axis = 1)\n",
    "df_target"
   ]
  },
  {
   "cell_type": "code",
   "execution_count": null,
   "id": "military-printing",
   "metadata": {},
   "outputs": [],
   "source": [
    "y = df_target"
   ]
  },
  {
   "cell_type": "code",
   "execution_count": null,
   "id": "mature-ordinance",
   "metadata": {},
   "outputs": [],
   "source": [
    "from sklearn.model_selection import train_test_split"
   ]
  },
  {
   "cell_type": "code",
   "execution_count": null,
   "id": "under-closer",
   "metadata": {},
   "outputs": [],
   "source": [
    "from sklearn import preprocessing"
   ]
  },
  {
   "cell_type": "code",
   "execution_count": null,
   "id": "phantom-spain",
   "metadata": {},
   "outputs": [],
   "source": [
    "min_max_scaler = preprocessing.MinMaxScaler()"
   ]
  },
  {
   "cell_type": "code",
   "execution_count": null,
   "id": "naval-highlight",
   "metadata": {},
   "outputs": [],
   "source": [
    "x = min_max_scaler.fit_transform(x)"
   ]
  },
  {
   "cell_type": "code",
   "execution_count": null,
   "id": "breeding-contest",
   "metadata": {},
   "outputs": [],
   "source": [
    "dfx = pd.DataFrame(x)"
   ]
  },
  {
   "cell_type": "code",
   "execution_count": null,
   "id": "light-catering",
   "metadata": {},
   "outputs": [],
   "source": [
    "#fit_test_train"
   ]
  },
  {
   "cell_type": "code",
   "execution_count": null,
   "id": "induced-clear",
   "metadata": {},
   "outputs": [],
   "source": [
    "#train_df = dfx.sample(frac=0.8, random_state=100)\n",
    "#test_df  = dfx[~df.index.isin(train_df.index)]"
   ]
  },
  {
   "cell_type": "code",
   "execution_count": null,
   "id": "plain-median",
   "metadata": {},
   "outputs": [],
   "source": [
    "from sklearn.model_selection import train_test_split\n",
    "x_train, x_test, y_train, y_test = train_test_split(x, y, test_size = 0.20)"
   ]
  },
  {
   "cell_type": "code",
   "execution_count": null,
   "id": "grand-december",
   "metadata": {},
   "outputs": [],
   "source": [
    "y_test"
   ]
  },
  {
   "cell_type": "code",
   "execution_count": null,
   "id": "constitutional-oregon",
   "metadata": {},
   "outputs": [],
   "source": [
    "y_train"
   ]
  },
  {
   "cell_type": "code",
   "execution_count": null,
   "id": "normal-sociology",
   "metadata": {},
   "outputs": [],
   "source": [
    "X_train"
   ]
  },
  {
   "cell_type": "code",
   "execution_count": null,
   "id": "solved-rhythm",
   "metadata": {},
   "outputs": [],
   "source": [
    "X_test"
   ]
  },
  {
   "cell_type": "code",
   "execution_count": null,
   "id": "attached-youth",
   "metadata": {},
   "outputs": [],
   "source": [
    "from sklearn.datasets import make_classification\n",
    "from sklearn.model_selection import train_test_split\n",
    "from sklearn import svm"
   ]
  },
  {
   "cell_type": "code",
   "execution_count": null,
   "id": "federal-silence",
   "metadata": {},
   "outputs": [],
   "source": []
  },
  {
   "cell_type": "code",
   "execution_count": null,
   "id": "intensive-washer",
   "metadata": {},
   "outputs": [],
   "source": [
    "clf = svm.SVC(kernel='precomputed')"
   ]
  },
  {
   "cell_type": "code",
   "execution_count": null,
   "id": "elect-sampling",
   "metadata": {},
   "outputs": [],
   "source": [
    "gram_train = np.dot(X_train, X_train.T)"
   ]
  },
  {
   "cell_type": "code",
   "execution_count": null,
   "id": "frequent-basin",
   "metadata": {},
   "outputs": [],
   "source": [
    "clf.fit(gram_train, gram_train)"
   ]
  },
  {
   "cell_type": "code",
   "execution_count": null,
   "id": "dutch-license",
   "metadata": {},
   "outputs": [],
   "source": [
    "#SVC(kernel='precomputed')"
   ]
  },
  {
   "cell_type": "code",
   "execution_count": null,
   "id": "understanding-bread",
   "metadata": {},
   "outputs": [],
   "source": [
    "clf.fit(gram_train, y_train)"
   ]
  },
  {
   "cell_type": "code",
   "execution_count": null,
   "id": "controlling-coating",
   "metadata": {},
   "outputs": [],
   "source": [
    "gram_test = np.dot(X_test, X_train.T)"
   ]
  },
  {
   "cell_type": "code",
   "execution_count": null,
   "id": "transparent-postage",
   "metadata": {},
   "outputs": [],
   "source": [
    "clf.predict(gram_test)"
   ]
  },
  {
   "cell_type": "code",
   "execution_count": null,
   "id": "numeric-cover",
   "metadata": {},
   "outputs": [],
   "source": []
  },
  {
   "cell_type": "code",
   "execution_count": null,
   "id": "extraordinary-provider",
   "metadata": {},
   "outputs": [],
   "source": []
  },
  {
   "cell_type": "code",
   "execution_count": null,
   "id": "residential-maple",
   "metadata": {},
   "outputs": [],
   "source": []
  },
  {
   "cell_type": "code",
   "execution_count": null,
   "id": "surprising-speech",
   "metadata": {},
   "outputs": [],
   "source": []
  },
  {
   "cell_type": "code",
   "execution_count": null,
   "id": "theoretical-procedure",
   "metadata": {},
   "outputs": [],
   "source": []
  },
  {
   "cell_type": "code",
   "execution_count": null,
   "id": "german-mortgage",
   "metadata": {},
   "outputs": [],
   "source": []
  },
  {
   "cell_type": "code",
   "execution_count": null,
   "id": "dental-weekly",
   "metadata": {},
   "outputs": [],
   "source": []
  },
  {
   "cell_type": "code",
   "execution_count": null,
   "id": "through-dietary",
   "metadata": {},
   "outputs": [],
   "source": []
  },
  {
   "cell_type": "code",
   "execution_count": null,
   "id": "documentary-groove",
   "metadata": {},
   "outputs": [],
   "source": []
  },
  {
   "cell_type": "code",
   "execution_count": null,
   "id": "married-joshua",
   "metadata": {},
   "outputs": [],
   "source": []
  },
  {
   "cell_type": "code",
   "execution_count": null,
   "id": "collectible-jesus",
   "metadata": {},
   "outputs": [],
   "source": [
    "df.to_csv('car_prepare.csv', index = None)"
   ]
  },
  {
   "cell_type": "code",
   "execution_count": null,
   "id": "comprehensive-paper",
   "metadata": {},
   "outputs": [],
   "source": []
  },
  {
   "cell_type": "code",
   "execution_count": null,
   "id": "psychological-praise",
   "metadata": {},
   "outputs": [],
   "source": []
  },
  {
   "cell_type": "code",
   "execution_count": null,
   "id": "competent-scope",
   "metadata": {},
   "outputs": [],
   "source": []
  }
 ],
 "metadata": {
  "kernelspec": {
   "display_name": "Python 3",
   "language": "python",
   "name": "python3"
  },
  "language_info": {
   "codemirror_mode": {
    "name": "ipython",
    "version": 3
   },
   "file_extension": ".py",
   "mimetype": "text/x-python",
   "name": "python",
   "nbconvert_exporter": "python",
   "pygments_lexer": "ipython3",
   "version": "3.6.9"
  }
 },
 "nbformat": 4,
 "nbformat_minor": 5
}
